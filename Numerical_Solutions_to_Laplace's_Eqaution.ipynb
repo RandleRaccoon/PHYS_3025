{
  "nbformat": 4,
  "nbformat_minor": 0,
  "metadata": {
    "colab": {
      "provenance": [],
      "authorship_tag": "ABX9TyPHUPIbpET/vod8FBHgrQHA",
      "include_colab_link": true
    },
    "kernelspec": {
      "name": "python3",
      "display_name": "Python 3"
    },
    "language_info": {
      "name": "python"
    }
  },
  "cells": [
    {
      "cell_type": "markdown",
      "metadata": {
        "id": "view-in-github",
        "colab_type": "text"
      },
      "source": [
        "<a href=\"https://colab.research.google.com/github/RandleRaccoon/PHYS_3025/blob/main/Numerical_Solutions_to_Laplace's_Eqaution.ipynb\" target=\"_parent\"><img src=\"https://colab.research.google.com/assets/colab-badge.svg\" alt=\"Open In Colab\"/></a>"
      ]
    },
    {
      "cell_type": "code",
      "execution_count": 2,
      "metadata": {
        "id": "54D5XQFvKAOu"
      },
      "outputs": [],
      "source": [
        "import numpy as np\n",
        "import matplotlib.pyplot as plt"
      ]
    },
    {
      "cell_type": "code",
      "source": [
        "n = 101                # Number of grid points\n",
        "V = np.zeros((n,n))  # Array to store function\n",
        "a = 50                # Set constant a\n",
        "l = 1                  # Set length of the box\n",
        "dx = l/(n-1)           # Find increment\n",
        "x = np.linspace(0,l,n)\n",
        "print(\"dx = %.2f\" % dx)"
      ],
      "metadata": {
        "colab": {
          "base_uri": "https://localhost:8080/"
        },
        "id": "izb0NVqoS4Ol",
        "outputId": "47c50596-9100-4219-9c32-99d4aa812b6e"
      },
      "execution_count": 4,
      "outputs": [
        {
          "output_type": "stream",
          "name": "stdout",
          "text": [
            "dx = 0.01\n"
          ]
        }
      ]
    },
    {
      "cell_type": "code",
      "source": [
        "#Boundary Conditions\n",
        "for i in range(len(psi)):\n",
        "    V[i,0] = 0\n",
        "    V[i,a] = a\n",
        "    V[0,i] = x[i]\n",
        "    V[-1,i] = C"
      ],
      "metadata": {
        "id": "vp88mbbgTDYZ"
      },
      "execution_count": null,
      "outputs": []
    }
  ]
}