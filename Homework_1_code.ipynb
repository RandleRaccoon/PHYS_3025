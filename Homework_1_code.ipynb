{
  "nbformat": 4,
  "nbformat_minor": 0,
  "metadata": {
    "colab": {
      "provenance": [],
      "authorship_tag": "ABX9TyO9KckuyD9MzzhSPZ2h2wKm",
      "include_colab_link": true
    },
    "kernelspec": {
      "name": "python3",
      "display_name": "Python 3"
    },
    "language_info": {
      "name": "python"
    }
  },
  "cells": [
    {
      "cell_type": "markdown",
      "metadata": {
        "id": "view-in-github",
        "colab_type": "text"
      },
      "source": [
        "<a href=\"https://colab.research.google.com/github/RandleRaccoon/PHYS_3025/blob/main/Homework_1_code.ipynb\" target=\"_parent\"><img src=\"https://colab.research.google.com/assets/colab-badge.svg\" alt=\"Open In Colab\"/></a>"
      ]
    },
    {
      "cell_type": "code",
      "execution_count": 1,
      "metadata": {
        "colab": {
          "base_uri": "https://localhost:8080/"
        },
        "id": "evv_1yIwDrtw",
        "outputId": "9a0d1c1b-958d-4785-ced5-bbedae3b07af"
      },
      "outputs": [
        {
          "output_type": "stream",
          "name": "stdout",
          "text": [
            "Collecting astroquery\n",
            "  Downloading astroquery-0.4.6-py3-none-any.whl (4.5 MB)\n",
            "\u001b[2K     \u001b[90m━━━━━━━━━━━━━━━━━━━━━━━━━━━━━━━━━━━━━━━━\u001b[0m \u001b[32m4.5/4.5 MB\u001b[0m \u001b[31m11.5 MB/s\u001b[0m eta \u001b[36m0:00:00\u001b[0m\n",
            "\u001b[?25hRequirement already satisfied: numpy>=1.16 in /usr/local/lib/python3.10/dist-packages (from astroquery) (1.23.5)\n",
            "Requirement already satisfied: astropy>=4.0 in /usr/local/lib/python3.10/dist-packages (from astroquery) (5.3.2)\n",
            "Requirement already satisfied: requests>=2.4.3 in /usr/local/lib/python3.10/dist-packages (from astroquery) (2.31.0)\n",
            "Requirement already satisfied: beautifulsoup4>=4.3.2 in /usr/local/lib/python3.10/dist-packages (from astroquery) (4.11.2)\n",
            "Requirement already satisfied: html5lib>=0.999 in /usr/local/lib/python3.10/dist-packages (from astroquery) (1.1)\n",
            "Requirement already satisfied: keyring>=4.0 in /usr/lib/python3/dist-packages (from astroquery) (23.5.0)\n",
            "Collecting pyvo>=1.1 (from astroquery)\n",
            "  Downloading pyvo-1.4.2-py3-none-any.whl (888 kB)\n",
            "\u001b[2K     \u001b[90m━━━━━━━━━━━━━━━━━━━━━━━━━━━━━━━━━━━━━━\u001b[0m \u001b[32m888.9/888.9 kB\u001b[0m \u001b[31m17.5 MB/s\u001b[0m eta \u001b[36m0:00:00\u001b[0m\n",
            "\u001b[?25hRequirement already satisfied: pyerfa>=2.0 in /usr/local/lib/python3.10/dist-packages (from astropy>=4.0->astroquery) (2.0.0.3)\n",
            "Requirement already satisfied: PyYAML>=3.13 in /usr/local/lib/python3.10/dist-packages (from astropy>=4.0->astroquery) (6.0.1)\n",
            "Requirement already satisfied: packaging>=19.0 in /usr/local/lib/python3.10/dist-packages (from astropy>=4.0->astroquery) (23.1)\n",
            "Requirement already satisfied: soupsieve>1.2 in /usr/local/lib/python3.10/dist-packages (from beautifulsoup4>=4.3.2->astroquery) (2.5)\n",
            "Requirement already satisfied: six>=1.9 in /usr/local/lib/python3.10/dist-packages (from html5lib>=0.999->astroquery) (1.16.0)\n",
            "Requirement already satisfied: webencodings in /usr/local/lib/python3.10/dist-packages (from html5lib>=0.999->astroquery) (0.5.1)\n",
            "Requirement already satisfied: charset-normalizer<4,>=2 in /usr/local/lib/python3.10/dist-packages (from requests>=2.4.3->astroquery) (3.2.0)\n",
            "Requirement already satisfied: idna<4,>=2.5 in /usr/local/lib/python3.10/dist-packages (from requests>=2.4.3->astroquery) (3.4)\n",
            "Requirement already satisfied: urllib3<3,>=1.21.1 in /usr/local/lib/python3.10/dist-packages (from requests>=2.4.3->astroquery) (2.0.4)\n",
            "Requirement already satisfied: certifi>=2017.4.17 in /usr/local/lib/python3.10/dist-packages (from requests>=2.4.3->astroquery) (2023.7.22)\n",
            "Installing collected packages: pyvo, astroquery\n",
            "Successfully installed astroquery-0.4.6 pyvo-1.4.2\n"
          ]
        }
      ],
      "source": [
        "# Python standard library\n",
        "import time\n",
        "import warnings\n",
        "\n",
        "# Third-party software\n",
        "import numpy as np\n",
        "\n",
        "# Astropy\n",
        "from astropy import coordinates as coord\n",
        "from astropy import units as u\n",
        "from astropy.table import Table\n",
        "\n",
        "# Astroquery. This tutorial requires 0.3.5 or greater.\n",
        "!pip install astroquery #note we need to install it manually using !pip install\n",
        "import astroquery\n",
        "from astroquery.simbad import Simbad\n",
        "from astroquery.vo_conesearch import conf, conesearch, vos_catalog\n",
        "\n",
        "# Set up matplotlib\n",
        "import matplotlib.pyplot as plt\n",
        "%matplotlib inline"
      ]
    },
    {
      "cell_type": "code",
      "source": [
        "from astropy.table import Table\n",
        "from astroquery.vizier import Vizier"
      ],
      "metadata": {
        "id": "aD_KIFD6D2Ik"
      },
      "execution_count": 2,
      "outputs": []
    },
    {
      "cell_type": "code",
      "source": [
        "#Limiting the coloumns for all the different items we need for the HR Diagram\n",
        "\n",
        "v = Vizier(columns=['Vmag', 'B-V', 'Plx', 'e_Plx', 'SpType'] ,\n",
        "           column_filters={\"Vmag\": '! =',\"B-V\": '! =',\"Plx\": '! =',\"e_Plx\": '! =',\"SpType\": '! =',}, row_limit = -1)\n"
      ],
      "metadata": {
        "id": "sgFi5LAuJnAV"
      },
      "execution_count": 39,
      "outputs": []
    },
    {
      "cell_type": "code",
      "source": [
        "#Constructing Arrays\n",
        "\n",
        "result = v.query_constraints(catalog='V/137D')\n",
        "table = result[0]\n",
        "\n"
      ],
      "metadata": {
        "id": "grxC2_jYM6oc"
      },
      "execution_count": 41,
      "outputs": []
    },
    {
      "cell_type": "code",
      "source": [
        "#Adjusting for parallax errors\n",
        "\n",
        "data_adj = table[table['e_Plx']/table['Plx']<0.05]\n",
        "print(data_adj)\n"
      ],
      "metadata": {
        "colab": {
          "base_uri": "https://localhost:8080/"
        },
        "id": "9ROqoGkDOsCT",
        "outputId": "753ac79d-69b9-4e97-e28f-62404066c40e"
      },
      "execution_count": 44,
      "outputs": [
        {
          "output_type": "stream",
          "name": "stdout",
          "text": [
            " Vmag  B-V    Plx   e_Plx   SpType \n",
            " mag   mag    mas    mas           \n",
            "----- ------ ------ ----- ---------\n",
            " 8.80  1.128  -0.10  1.27    K0 III\n",
            " 6.43  0.514  13.40  0.57       F8V\n",
            " 8.65  0.778  23.64  0.66       G6V\n",
            "10.61  0.570  -2.26  3.22        OB\n",
            " 6.18  1.032   7.34  0.35     K2III\n",
            " 6.49  0.616  16.83  0.51    G0/2IV\n",
            " 7.40  0.551  15.40  0.69    G2IV/V\n",
            " 8.27  0.863  33.48  0.66       K1V\n",
            " 7.05  0.520  25.77  0.49        G0\n",
            " 9.09  0.091  -1.96  1.26        B5\n",
            "  ...    ...    ...   ...       ...\n",
            " 6.78  0.215  11.19  0.46       A7V\n",
            " 7.07  0.178  11.21  0.54        A2\n",
            " 8.69  1.042  43.49  1.00   K4V (k)\n",
            " 4.03  0.419  31.26  0.15       F4V\n",
            " 7.47  0.741  39.85  0.78     G8+ V\n",
            " 5.81  0.539  34.57  0.51        F8\n",
            " 8.85  1.187  39.43  1.36       K4V\n",
            " 4.49 -0.075   8.74  0.18       B8V\n",
            " 7.70  1.420 159.48  6.61     K7.0V\n",
            " 9.72  0.792  -2.16  1.27 O4/6III/V\n",
            "Length = 15127 rows\n"
          ]
        }
      ]
    },
    {
      "cell_type": "code",
      "source": [
        "#Mv on y-axis\n",
        "\n",
        "distance = 1/(data_adj[\"Plx\"]*1E-3)\n",
        "\n",
        "Mv = data_adj['Vmag'] - 5*np.log10(distance) + 5\n",
        "print(Mv)"
      ],
      "metadata": {
        "colab": {
          "base_uri": "https://localhost:8080/"
        },
        "id": "JO_PcAjWZaBe",
        "outputId": "3941300d-69ba-41c6-f03e-dd66261f5412"
      },
      "execution_count": 56,
      "outputs": [
        {
          "output_type": "stream",
          "name": "stdout",
          "text": [
            "   Vmag   \n",
            "----------\n",
            "        --\n",
            " 2.0655246\n",
            "  5.518237\n",
            "        --\n",
            "0.50848055\n",
            " 2.6204205\n",
            "  3.337604\n",
            "  5.893928\n",
            " 4.1055727\n",
            "        --\n",
            "       ...\n",
            "  4.487658\n",
            " 2.0241513\n",
            "  2.318028\n",
            "  6.881947\n",
            " 1.5049453\n",
            " 5.4721417\n",
            " 3.5034966\n",
            "  6.829135\n",
            "-0.8024435\n",
            " 8.7135315\n",
            "        --\n",
            "Length = 15127 rows\n"
          ]
        },
        {
          "output_type": "stream",
          "name": "stderr",
          "text": [
            "<ipython-input-56-af6e466d833a>:5: RuntimeWarning: invalid value encountered in log10\n",
            "  Mv = data_adj['Vmag'] - 5*np.log10(distance) + 5\n"
          ]
        }
      ]
    },
    {
      "cell_type": "code",
      "source": [
        "#HR Diagram (hopefull)\n",
        "\n",
        "plt.scatter(data_adj[\"B-V\"],Mv, s=1,)\n",
        "plt.ylim(reversed(plt.ylim()))\n",
        "plt.xlabel(\"B-V\", fontsize=20)\n",
        "plt.ylabel(\"Absolute Magnitude\", fontsize=20)"
      ],
      "metadata": {
        "colab": {
          "base_uri": "https://localhost:8080/",
          "height": 480
        },
        "id": "vBRTQ0y5evM1",
        "outputId": "60669bf2-eb83-4b3f-87ec-0cf3977e88f2"
      },
      "execution_count": 62,
      "outputs": [
        {
          "output_type": "execute_result",
          "data": {
            "text/plain": [
              "Text(0, 0.5, 'Absolute Magnitude')"
            ]
          },
          "metadata": {},
          "execution_count": 62
        },
        {
          "output_type": "display_data",
          "data": {
            "text/plain": [
              "<Figure size 640x480 with 1 Axes>"
            ],
            "image/png": "[encoded data removed]"
          },
          "metadata": {}
        }
      ]
    },
    {
      "cell_type": "markdown",
      "source": [
        "To do a Temperature vs. Luminosity diagram you would need to convert your found values for what you want to get. The only special considerations I can think of is the relationship between temperature and color. To get luminosity you can use the absolute magnitude since the values are directly related to one another. Specifically, you would need the bolometric magnitude."
      ],
      "metadata": {
        "id": "VIBAbDTxg0-6"
      }
    }
  ]
}