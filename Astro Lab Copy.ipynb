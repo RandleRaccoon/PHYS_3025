{
  "nbformat": 4,
  "nbformat_minor": 0,
  "metadata": {
    "colab": {
      "provenance": [],
      "authorship_tag": "ABX9TyOi06tjjsQyrao3YVc8dyGL",
      "include_colab_link": true
    },
    "kernelspec": {
      "name": "python3",
      "display_name": "Python 3"
    },
    "language_info": {
      "name": "python"
    }
  },
  "cells": [
    {
      "cell_type": "markdown",
      "metadata": {
        "id": "view-in-github",
        "colab_type": "text"
      },
      "source": [
        "<a href=\"https://colab.research.google.com/github/RandleRaccoon/PHYS_3025/blob/main/Astro%20Lab%20Copy.ipynb\" target=\"_parent\"><img src=\"https://colab.research.google.com/assets/colab-badge.svg\" alt=\"Open In Colab\"/></a>"
      ]
    },
    {
      "cell_type": "code",
      "source": [
        "import numpy as np\n",
        "import astropy.units as u\n",
        "from astropy.coordinates import AltAz, EarthLocation, SkyCoord\n",
        "from astropy.time import Time"
      ],
      "metadata": {
        "id": "ZtNAw1SIKHn7"
      },
      "execution_count": 12,
      "outputs": []
    },
    {
      "cell_type": "code",
      "source": [
        "c = SkyCoord(ra=['01h33.2m', '1h36.7m', '1h42.4m', '2h3.9m', '4h3.3m', '5h34.5m', '5h52.4m', '6h28.8m', '7h29.2m', '7h36.9m', '9h55.8m', '11h14.8m', '12h30.8m', '12h39.5m', '12h56m', '12h56.7m', '13h29.9m', '15h5.7m', '16h41.7m', '18h18.8m', '18h44.3m', '18h51.1m', '20h34.8m', '21h30m'],\n",
        "             dec=[60.7, 15.78333333, 51.56666667, 42.31666667, 36.41666667, 22.01666667, 32.55, -7.03333333, 20.91666667, 65.6, 69.68333333, 55.01666667, 12.4, -26.75, 38.31666667, 21.68333333, 47.2, -55.6, 36.46666667, -13.78333333, 39.65, -6.26666667, 60.15, 12.16666667]*u.degree, frame='icrs')\n",
        "print(c)"
      ],
      "metadata": {
        "id": "cVQNBhHnKJ5n",
        "outputId": "a8f1dc0a-0aa4-41c2-f120-1587d1b1e3dc",
        "colab": {
          "base_uri": "https://localhost:8080/"
        }
      },
      "execution_count": 13,
      "outputs": [
        {
          "output_type": "stream",
          "name": "stdout",
          "text": [
            "<SkyCoord (ICRS): (ra, dec) in deg\n",
            "    [( 23.3  ,  60.7       ), ( 24.175,  15.78333333),\n",
            "     ( 25.6  ,  51.56666667), ( 30.975,  42.31666667),\n",
            "     ( 60.825,  36.41666667), ( 83.625,  22.01666667),\n",
            "     ( 88.1  ,  32.55      ), ( 97.2  ,  -7.03333333),\n",
            "     (112.3  ,  20.91666667), (114.225,  65.6       ),\n",
            "     (148.95 ,  69.68333333), (168.7  ,  55.01666667),\n",
            "     (187.7  ,  12.4       ), (189.875, -26.75      ),\n",
            "     (194.   ,  38.31666667), (194.175,  21.68333333),\n",
            "     (202.475,  47.2       ), (226.425, -55.6       ),\n",
            "     (250.425,  36.46666667), (274.7  , -13.78333333),\n",
            "     (281.075,  39.65      ), (282.775,  -6.26666667),\n",
            "     (308.7  ,  60.15      ), (322.5  ,  12.16666667)]>\n"
          ]
        }
      ]
    },
    {
      "cell_type": "code",
      "source": [
        "etscorn = EarthLocation(lat = 34.06*u.deg, lon = -106.9*u.deg)\n",
        "time = Time('2023-11-14 18:30:00')\n",
        "\n",
        "alt = c.transform_to(AltAz(obstime=time, location=etscorn))\n",
        "print(alt.alt*u.deg)\n",
        "\n",
        "print(c)"
      ],
      "metadata": {
        "id": "FigQQatqSOY6",
        "outputId": "50c565ed-74e4-4928-c6df-3ceb2d5b765a",
        "colab": {
          "base_uri": "https://localhost:8080/"
        }
      },
      "execution_count": 20,
      "outputs": [
        {
          "output_type": "stream",
          "name": "stdout",
          "text": [
            "[  6.35699476 -36.62662964  -2.77272333 -12.60553871 -17.69299199\n",
            " -22.33362732 -11.44458267 -34.06636307  -4.86335729  23.32221399\n",
            "  36.93092616  46.91769552  50.55662264  21.05890609  65.5879799\n",
            "  61.02230667  69.24789407   0.22038235  68.35166775  22.01499404\n",
            "  44.76703618  21.38621692  31.65093907  -0.103952  ] deg2\n",
            "<SkyCoord (ICRS): (ra, dec) in deg\n",
            "    [( 23.3  ,  60.7       ), ( 24.175,  15.78333333),\n",
            "     ( 25.6  ,  51.56666667), ( 30.975,  42.31666667),\n",
            "     ( 60.825,  36.41666667), ( 83.625,  22.01666667),\n",
            "     ( 88.1  ,  32.55      ), ( 97.2  ,  -7.03333333),\n",
            "     (112.3  ,  20.91666667), (114.225,  65.6       ),\n",
            "     (148.95 ,  69.68333333), (168.7  ,  55.01666667),\n",
            "     (187.7  ,  12.4       ), (189.875, -26.75      ),\n",
            "     (194.   ,  38.31666667), (194.175,  21.68333333),\n",
            "     (202.475,  47.2       ), (226.425, -55.6       ),\n",
            "     (250.425,  36.46666667), (274.7  , -13.78333333),\n",
            "     (281.075,  39.65      ), (282.775,  -6.26666667),\n",
            "     (308.7  ,  60.15      ), (322.5  ,  12.16666667)]>\n"
          ]
        }
      ]
    }
  ]
}